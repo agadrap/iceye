{
 "cells": [
  {
   "cell_type": "code",
   "execution_count": 1,
   "metadata": {},
   "outputs": [],
   "source": [
    "import numpy as np\n",
    "import pandas as pd"
   ]
  },
  {
   "cell_type": "code",
   "execution_count": 245,
   "metadata": {},
   "outputs": [],
   "source": [
    "df = pd.read_csv('TLM_LIST.csv')"
   ]
  },
  {
   "cell_type": "markdown",
   "metadata": {},
   "source": [
    ".csv table view, first rows"
   ]
  },
  {
   "cell_type": "code",
   "execution_count": 246,
   "metadata": {},
   "outputs": [
    {
     "data": {
      "text/html": [
       "<div>\n",
       "<style scoped>\n",
       "    .dataframe tbody tr th:only-of-type {\n",
       "        vertical-align: middle;\n",
       "    }\n",
       "\n",
       "    .dataframe tbody tr th {\n",
       "        vertical-align: top;\n",
       "    }\n",
       "\n",
       "    .dataframe thead th {\n",
       "        text-align: right;\n",
       "    }\n",
       "</style>\n",
       "<table border=\"1\" class=\"dataframe\">\n",
       "  <thead>\n",
       "    <tr style=\"text-align: right;\">\n",
       "      <th></th>\n",
       "      <th>Hex Addr</th>\n",
       "      <th>Byte</th>\n",
       "      <th>Package</th>\n",
       "      <th>Mnemonic</th>\n",
       "      <th>Short Description</th>\n",
       "      <th>Tlm Type</th>\n",
       "      <th>Tlm Conversion (EU/lsb)</th>\n",
       "      <th>Eng. Units (EU)</th>\n",
       "    </tr>\n",
       "  </thead>\n",
       "  <tbody>\n",
       "    <tr>\n",
       "      <th>0</th>\n",
       "      <td>0x420</td>\n",
       "      <td>32.0</td>\n",
       "      <td>COMMAND_TLM</td>\n",
       "      <td>CMD_STATUS</td>\n",
       "      <td>Command Status</td>\n",
       "      <td>uint8</td>\n",
       "      <td>1.0</td>\n",
       "      <td>0/OK 1/BAD_APID 2/BAD_OPCODE 3/BAD_DATA 7/NO_C...</td>\n",
       "    </tr>\n",
       "    <tr>\n",
       "      <th>1</th>\n",
       "      <td>0x421</td>\n",
       "      <td>33.0</td>\n",
       "      <td>COMMAND_TLM</td>\n",
       "      <td>CMD_REJECT_STATUS</td>\n",
       "      <td>Command Reject Status</td>\n",
       "      <td>uint8</td>\n",
       "      <td>1.0</td>\n",
       "      <td>0/OK 1/BAD_APID 2/BAD_OPCODE 3/BAD_DATA 7/NO_C...</td>\n",
       "    </tr>\n",
       "    <tr>\n",
       "      <th>2</th>\n",
       "      <td>0x422</td>\n",
       "      <td>34.0</td>\n",
       "      <td>COMMAND_TLM</td>\n",
       "      <td>CMD_ACCEPT_COUNT</td>\n",
       "      <td>Command Accept Count</td>\n",
       "      <td>uint8</td>\n",
       "      <td>1.0</td>\n",
       "      <td>none</td>\n",
       "    </tr>\n",
       "    <tr>\n",
       "      <th>3</th>\n",
       "      <td>0x423</td>\n",
       "      <td>35.0</td>\n",
       "      <td>COMMAND_TLM</td>\n",
       "      <td>CMD_REJECT_COUNT</td>\n",
       "      <td>Command Reject Count</td>\n",
       "      <td>uint8</td>\n",
       "      <td>1.0</td>\n",
       "      <td>none</td>\n",
       "    </tr>\n",
       "    <tr>\n",
       "      <th>4</th>\n",
       "      <td>0x424</td>\n",
       "      <td>36.0</td>\n",
       "      <td>COMMAND_TLM</td>\n",
       "      <td>LAST_ACC_CMD_BYTES1</td>\n",
       "      <td>Last Accept Cmd Bytes</td>\n",
       "      <td>uint8</td>\n",
       "      <td>1.0</td>\n",
       "      <td>none</td>\n",
       "    </tr>\n",
       "  </tbody>\n",
       "</table>\n",
       "</div>"
      ],
      "text/plain": [
       "  Hex Addr  Byte      Package             Mnemonic      Short Description  \\\n",
       "0    0x420  32.0  COMMAND_TLM           CMD_STATUS         Command Status   \n",
       "1    0x421  33.0  COMMAND_TLM    CMD_REJECT_STATUS  Command Reject Status   \n",
       "2    0x422  34.0  COMMAND_TLM     CMD_ACCEPT_COUNT   Command Accept Count   \n",
       "3    0x423  35.0  COMMAND_TLM     CMD_REJECT_COUNT   Command Reject Count   \n",
       "4    0x424  36.0  COMMAND_TLM  LAST_ACC_CMD_BYTES1  Last Accept Cmd Bytes   \n",
       "\n",
       "  Tlm Type  Tlm Conversion (EU/lsb)  \\\n",
       "0    uint8                      1.0   \n",
       "1    uint8                      1.0   \n",
       "2    uint8                      1.0   \n",
       "3    uint8                      1.0   \n",
       "4    uint8                      1.0   \n",
       "\n",
       "                                     Eng. Units (EU)  \n",
       "0  0/OK 1/BAD_APID 2/BAD_OPCODE 3/BAD_DATA 7/NO_C...  \n",
       "1  0/OK 1/BAD_APID 2/BAD_OPCODE 3/BAD_DATA 7/NO_C...  \n",
       "2                                               none  \n",
       "3                                               none  \n",
       "4                                               none  "
      ]
     },
     "execution_count": 246,
     "metadata": {},
     "output_type": "execute_result"
    }
   ],
   "source": [
    "df.head()"
   ]
  },
  {
   "cell_type": "markdown",
   "metadata": {},
   "source": [
    "Basic information about the data, two numerical tables, six with text"
   ]
  },
  {
   "cell_type": "code",
   "execution_count": 247,
   "metadata": {},
   "outputs": [
    {
     "name": "stdout",
     "output_type": "stream",
     "text": [
      "<class 'pandas.core.frame.DataFrame'>\n",
      "RangeIndex: 726 entries, 0 to 725\n",
      "Data columns (total 8 columns):\n",
      "Hex Addr                   724 non-null object\n",
      "Byte                       724 non-null float64\n",
      "Package                    724 non-null object\n",
      "Mnemonic                   724 non-null object\n",
      "Short Description          724 non-null object\n",
      "Tlm Type                   724 non-null object\n",
      "Tlm Conversion (EU/lsb)    724 non-null float64\n",
      "Eng. Units (EU)            726 non-null object\n",
      "dtypes: float64(2), object(6)\n",
      "memory usage: 45.5+ KB\n"
     ]
    }
   ],
   "source": [
    "df.info()"
   ]
  },
  {
   "cell_type": "markdown",
   "metadata": {},
   "source": [
    "All integers"
   ]
  },
  {
   "cell_type": "code",
   "execution_count": 248,
   "metadata": {},
   "outputs": [
    {
     "data": {
      "text/plain": [
       "uint8     368\n",
       "int32     117\n",
       "int16     116\n",
       "uint32     73\n",
       "uint16     45\n",
       "int8        5\n",
       "Name: Tlm Type, dtype: int64"
      ]
     },
     "execution_count": 248,
     "metadata": {},
     "output_type": "execute_result"
    }
   ],
   "source": [
    "df['Tlm Type'].value_counts()"
   ]
  },
  {
   "cell_type": "code",
   "execution_count": 249,
   "metadata": {},
   "outputs": [
    {
     "data": {
      "text/html": [
       "<div>\n",
       "<style scoped>\n",
       "    .dataframe tbody tr th:only-of-type {\n",
       "        vertical-align: middle;\n",
       "    }\n",
       "\n",
       "    .dataframe tbody tr th {\n",
       "        vertical-align: top;\n",
       "    }\n",
       "\n",
       "    .dataframe thead th {\n",
       "        text-align: right;\n",
       "    }\n",
       "</style>\n",
       "<table border=\"1\" class=\"dataframe\">\n",
       "  <thead>\n",
       "    <tr style=\"text-align: right;\">\n",
       "      <th></th>\n",
       "      <th>Hex Addr</th>\n",
       "      <th>Byte</th>\n",
       "      <th>Package</th>\n",
       "      <th>Mnemonic</th>\n",
       "      <th>Short Description</th>\n",
       "      <th>Tlm Type</th>\n",
       "      <th>Tlm Conversion (EU/lsb)</th>\n",
       "      <th>Eng. Units (EU)</th>\n",
       "    </tr>\n",
       "  </thead>\n",
       "  <tbody>\n",
       "    <tr>\n",
       "      <th>24</th>\n",
       "      <td>0x441</td>\n",
       "      <td>65.0</td>\n",
       "      <td>TIME</td>\n",
       "      <td>TAI_SECONDS</td>\n",
       "      <td>TAI Seconds</td>\n",
       "      <td>uint32</td>\n",
       "      <td>0.2</td>\n",
       "      <td>sec</td>\n",
       "    </tr>\n",
       "    <tr>\n",
       "      <th>25</th>\n",
       "      <td>0x445</td>\n",
       "      <td>69.0</td>\n",
       "      <td>TIME</td>\n",
       "      <td>CYCLE_TIME</td>\n",
       "      <td>Cycle Time</td>\n",
       "      <td>uint32</td>\n",
       "      <td>0.2</td>\n",
       "      <td>sec</td>\n",
       "    </tr>\n",
       "    <tr>\n",
       "      <th>26</th>\n",
       "      <td>0x449</td>\n",
       "      <td>73.0</td>\n",
       "      <td>TIME</td>\n",
       "      <td>JD_OF_NOW_WRT_TAI</td>\n",
       "      <td>Julian Date TAI</td>\n",
       "      <td>uint32</td>\n",
       "      <td>1.0</td>\n",
       "      <td>day</td>\n",
       "    </tr>\n",
       "    <tr>\n",
       "      <th>27</th>\n",
       "      <td>0x44d</td>\n",
       "      <td>77.0</td>\n",
       "      <td>TIME</td>\n",
       "      <td>GPS_UPDATE_CYCLE_PERIOD</td>\n",
       "      <td>GPS Update Cycle Period</td>\n",
       "      <td>uint32</td>\n",
       "      <td>1.0</td>\n",
       "      <td>none</td>\n",
       "    </tr>\n",
       "    <tr>\n",
       "      <th>28</th>\n",
       "      <td>0x451</td>\n",
       "      <td>81.0</td>\n",
       "      <td>TIME</td>\n",
       "      <td>GPS_UPDATE_CYCLE_COUNT</td>\n",
       "      <td>GPS Update Cycle Count</td>\n",
       "      <td>uint32</td>\n",
       "      <td>1.0</td>\n",
       "      <td>none</td>\n",
       "    </tr>\n",
       "    <tr>\n",
       "      <th>29</th>\n",
       "      <td>0x455</td>\n",
       "      <td>85.0</td>\n",
       "      <td>TIME</td>\n",
       "      <td>TIME_VALID</td>\n",
       "      <td>Time Valid</td>\n",
       "      <td>uint8</td>\n",
       "      <td>1.0</td>\n",
       "      <td>1/YES 0/NO</td>\n",
       "    </tr>\n",
       "    <tr>\n",
       "      <th>30</th>\n",
       "      <td>0x456</td>\n",
       "      <td>86.0</td>\n",
       "      <td>TIME</td>\n",
       "      <td>CLOCK_SYNC_ENABLE</td>\n",
       "      <td>Clock Sync Enable</td>\n",
       "      <td>uint8</td>\n",
       "      <td>1.0</td>\n",
       "      <td>0/DS 1/EN</td>\n",
       "    </tr>\n",
       "    <tr>\n",
       "      <th>31</th>\n",
       "      <td>0x457</td>\n",
       "      <td>87.0</td>\n",
       "      <td>TIME</td>\n",
       "      <td>PPS_CONFIG</td>\n",
       "      <td>PPS Type</td>\n",
       "      <td>uint8</td>\n",
       "      <td>1.0</td>\n",
       "      <td>0/DS  1/GPS  2/INT</td>\n",
       "    </tr>\n",
       "  </tbody>\n",
       "</table>\n",
       "</div>"
      ],
      "text/plain": [
       "   Hex Addr  Byte Package                 Mnemonic        Short Description  \\\n",
       "24    0x441  65.0    TIME              TAI_SECONDS              TAI Seconds   \n",
       "25    0x445  69.0    TIME               CYCLE_TIME               Cycle Time   \n",
       "26    0x449  73.0    TIME        JD_OF_NOW_WRT_TAI          Julian Date TAI   \n",
       "27    0x44d  77.0    TIME  GPS_UPDATE_CYCLE_PERIOD  GPS Update Cycle Period   \n",
       "28    0x451  81.0    TIME   GPS_UPDATE_CYCLE_COUNT   GPS Update Cycle Count   \n",
       "29    0x455  85.0    TIME               TIME_VALID               Time Valid   \n",
       "30    0x456  86.0    TIME        CLOCK_SYNC_ENABLE        Clock Sync Enable   \n",
       "31    0x457  87.0    TIME               PPS_CONFIG                 PPS Type   \n",
       "\n",
       "   Tlm Type  Tlm Conversion (EU/lsb)     Eng. Units (EU)  \n",
       "24   uint32                      0.2                 sec  \n",
       "25   uint32                      0.2                 sec  \n",
       "26   uint32                      1.0                 day  \n",
       "27   uint32                      1.0                none  \n",
       "28   uint32                      1.0                none  \n",
       "29    uint8                      1.0          1/YES 0/NO  \n",
       "30    uint8                      1.0           0/DS 1/EN  \n",
       "31    uint8                      1.0  0/DS  1/GPS  2/INT  "
      ]
     },
     "execution_count": 249,
     "metadata": {},
     "output_type": "execute_result"
    }
   ],
   "source": [
    "df[df['Package']=='TIME']"
   ]
  },
  {
   "cell_type": "markdown",
   "metadata": {},
   "source": [
    "Managed to retrieve data as bytes, however I couldn't find correct encoding to see what exactly is written (I tried 'ascii', 'utf-8', 'itf-16' & 'latin-1') therefore I failed to split it and write it to an array based on csv structure so that I would be able to filter out the time, position etc.\n",
    "\n",
    "Number of entries would be needed in the stk file so I calculated it based on provided data chunk size of 2068 bytes"
   ]
  },
  {
   "cell_type": "code",
   "execution_count": 253,
   "metadata": {},
   "outputs": [
    {
     "name": "stdout",
     "output_type": "stream",
     "text": [
      "[10, 0, 0, 7, 8, 1, 11, 231, 8, 195, 11, 217, 7, 158, 4, 228, 0, 0, 12, 239, 0, 153, 31, 219, 0, 0, 0, 0, 190, 239, 202, 254, 0, 0, 1, 0, 2, 4, 2, 0, 0, 0, 0, 0, 0, 0, 0, 0, 0, 0, 0, 0, 109, 103, 50, 56, 55, 56, 95, 97, 32, 65, 0, 193, 0, 143, 101, 184, 62, 0, 0, 0, 5, 0, 37, 126, 26, 0, 0, 0, 150, 0, 0, 0, 145, 0, 1, 2, 0, 0, 0, 0, 143, 101, 184, 63, 0, 0, 0, 0]\n"
     ]
    },
    {
     "data": {
      "text/plain": [
       "3632.0"
      ]
     },
     "execution_count": 253,
     "metadata": {},
     "output_type": "execute_result"
    }
   ],
   "source": [
    "import binascii\n",
    "def bytes_from_file(filename, chunksize=2068):\n",
    "    with open(filename, \"rb\") as f:\n",
    "        while True:\n",
    "            chunk = f.read(chunksize)\n",
    "            if chunk:\n",
    "                for b in chunk:\n",
    "                    yield b   \n",
    "            else:\n",
    "                break\n",
    "\n",
    "binary_data = []\n",
    "\n",
    "for b in bytes_from_file('telemetry.bin'):\n",
    "    binary_data.append(b)\n",
    "    \n",
    "#binary sample\n",
    "print(binary_data[:100])\n",
    "\n",
    "#number of lines based on data chunk provided\n",
    "len(binary_data)/2068"
   ]
  },
  {
   "cell_type": "markdown",
   "metadata": {},
   "source": [
    " I have chosen the ephemeris file format - 'EphemerisLLATimePos': \n",
    " \n",
    " TimeInSeconds Lat Lon Alt\n",
    " \n",
    " but I could write only to .txt extension "
   ]
  },
  {
   "cell_type": "code",
   "execution_count": 254,
   "metadata": {},
   "outputs": [],
   "source": [
    "time = []\n",
    "lat = []\n",
    "long = []\n",
    "alt = []"
   ]
  },
  {
   "cell_type": "code",
   "execution_count": 255,
   "metadata": {},
   "outputs": [],
   "source": [
    "with open('stk.txt', 'w') as f:\n",
    "    f.write('stk.v.5.0'+ '\\n')\n",
    "    f.write('BEGIN Ephemeris'+ '\\n')\n",
    "    f.write('NumberOfEphemerisPoints 3632'+ '\\n')\n",
    "    f.write('ScenarioEpoch           1 Jan 2000 00:00:00.000000000'+ '\\n')\n",
    "    f.write('InterpolationMethod     Lagrange'+ '\\n')\n",
    "    f.write('InterpolationOrder      1'+ '\\n')\n",
    "    f.write('DistanceUnit      Kilometers'+ '\\n')\n",
    "    f.write('CentralBody             Earth'+ '\\n')\n",
    "    f.write('CoordinateSystem        J2000'+ '\\n')\n",
    "    f.write('EphemerisLLATimePos'+ '\\n')\n",
    "    for index,value in enumerate(time):\n",
    "        f.write('{} {} {} {}'.format(time[index], lat[index], lon[index], alt[index])+ '\\n')\n",
    "    f.write('END Ephemeris')"
   ]
  },
  {
   "cell_type": "code",
   "execution_count": 256,
   "metadata": {},
   "outputs": [
    {
     "name": "stdout",
     "output_type": "stream",
     "text": [
      "stk.v.5.0\n",
      "\n",
      "BEGIN Ephemeris\n",
      "\n",
      "NumberOfEphemerisPoints 3632\n",
      "\n",
      "ScenarioEpoch           1 Jan 2000 00:00:00.000000000\n",
      "\n",
      "InterpolationMethod     Lagrange\n",
      "\n",
      "InterpolationOrder      1\n",
      "\n",
      "DistanceUnit      Kilometers\n",
      "\n",
      "CentralBody             Earth\n",
      "\n",
      "CoordinateSystem        J2000\n",
      "\n",
      "EphemerisLLATimePos\n",
      "\n",
      "END Ephemeris\n"
     ]
    }
   ],
   "source": [
    "with open('stk.txt','r') as f:\n",
    "    for line in f:\n",
    "        print(line)"
   ]
  },
  {
   "cell_type": "code",
   "execution_count": null,
   "metadata": {},
   "outputs": [],
   "source": []
  }
 ],
 "metadata": {
  "kernelspec": {
   "display_name": "Python 3",
   "language": "python",
   "name": "python3"
  },
  "language_info": {
   "codemirror_mode": {
    "name": "ipython",
    "version": 3
   },
   "file_extension": ".py",
   "mimetype": "text/x-python",
   "name": "python",
   "nbconvert_exporter": "python",
   "pygments_lexer": "ipython3",
   "version": "3.7.2"
  }
 },
 "nbformat": 4,
 "nbformat_minor": 2
}
